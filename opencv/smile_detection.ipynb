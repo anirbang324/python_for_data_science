{
 "cells": [
  {
   "cell_type": "markdown",
   "metadata": {},
   "source": [
    "# Smile Detector : We need to use 'haarcascade_smile.xml' for checking"
   ]
  },
  {
   "cell_type": "code",
   "execution_count": 1,
   "metadata": {},
   "outputs": [],
   "source": [
    "import cv2"
   ]
  },
  {
   "cell_type": "code",
   "execution_count": 2,
   "metadata": {},
   "outputs": [],
   "source": [
    "detector = cv2.CascadeClassifier('E:\\Python Programs\\data science\\opencv\\haarcascade_smile.xml')"
   ]
  },
  {
   "cell_type": "code",
   "execution_count": 5,
   "metadata": {},
   "outputs": [],
   "source": [
    "cam = cv2.VideoCapture(0)\n",
    "\n",
    "while True:\n",
    "    ret, frame = cam.read()\n",
    "\n",
    "    if ret == False:\n",
    "        continue\n",
    "\n",
    "    #to detect only smile we need to increase the maxneighbour's value\n",
    "    #so it will create less number of rectangles and we can detect smiles\n",
    "    all_smiles = detector.detectMultiScale(frame, 1.5, 80) \n",
    "    sorted_smile = sorted(all_smiles, key = lambda s: s[-1]*s[-2])\n",
    "    \n",
    "    if sorted_smile:\n",
    "        x,y,w,h = sorted_smile[0]\n",
    "        frame = cv2.rectangle(frame,(x,y),(x+w,y+h),(0,0,255),2)\n",
    "\n",
    "    cv2.imshow(\"Smile Detector \",frame) #this will show the image\n",
    "\n",
    "    keyprsd = cv2.waitKey(1) & 0xFF  #finding which key we have pressed\n",
    "    if keyprsd == ord('q'):\n",
    "        break\n",
    "\n",
    "cam.release()\n",
    "cv2.destroyAllWindows()"
   ]
  }
 ],
 "metadata": {
  "kernelspec": {
   "display_name": "Python 3.10.8 64-bit (microsoft store)",
   "language": "python",
   "name": "python3"
  },
  "language_info": {
   "codemirror_mode": {
    "name": "ipython",
    "version": 3
   },
   "file_extension": ".py",
   "mimetype": "text/x-python",
   "name": "python",
   "nbconvert_exporter": "python",
   "pygments_lexer": "ipython3",
   "version": "3.11.4"
  },
  "orig_nbformat": 4,
  "vscode": {
   "interpreter": {
    "hash": "00499391e26525a6f029e5f9ab89ef0799b3fd373b735b2129c9f06f5f3887c4"
   }
  }
 },
 "nbformat": 4,
 "nbformat_minor": 2
}
