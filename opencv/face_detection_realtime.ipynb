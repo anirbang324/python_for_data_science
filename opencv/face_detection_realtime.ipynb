{
 "cells": [
  {
   "cell_type": "markdown",
   "metadata": {},
   "source": [
    "# Approach - \n",
    "\n",
    "# 1. To detect face, we need to access the webcam, since there is only one webcam in my system, so  - VideoCapture(0)\n",
    "# 2. We need to initialize a while loop that will keep running for infinite times\n",
    "# 3. To detect faces we need to use detectMultiScale and specify values for image[, scaleFactor[, minNeighbors[, flags[, minSize[, maxSize]]]]]\n",
    "# 4. To show the output - cv2.imshow \n",
    "# 5. To stop the window we should break the loop and when user presses 'q' then the loop will break\n",
    "\n",
    "# if keyprsd == ord('q'):\n",
    "#       break"
   ]
  },
  {
   "cell_type": "code",
   "execution_count": 4,
   "metadata": {},
   "outputs": [],
   "source": [
    "import cv2"
   ]
  },
  {
   "cell_type": "code",
   "execution_count": 5,
   "metadata": {},
   "outputs": [],
   "source": [
    "detector  = cv2.CascadeClassifier('./haarcascade_frontalface_default.xml')"
   ]
  },
  {
   "cell_type": "code",
   "execution_count": 7,
   "metadata": {},
   "outputs": [],
   "source": [
    "cam = cv2.VideoCapture(0)\n",
    "\n",
    "while True:\n",
    "    ret, frame = cam.read()\n",
    "\n",
    "    if ret == False:\n",
    "        continue\n",
    "    \n",
    "    allfaces = detector.detectMultiScale(frame, 1.5, 3)  #\timage[, scaleFactor[, minNeighbors[, flags[, minSize[, maxSize]]]]]\n",
    "\n",
    "    for faces in allfaces:\n",
    "        x,y,w,h = faces\n",
    "        frame = cv2.rectangle(frame,(x,y),(x+w,y+h),(255,0,0,),2)\n",
    "\n",
    "    cv2.imshow(\"Face Detection\",frame) #this will show the image\n",
    "\n",
    "    keyprsd = cv2.waitKey(1) & 0xFF  #finding which key we have pressed\n",
    "    if keyprsd == ord('q'):\n",
    "        break\n",
    "\n",
    "cam.release()\n",
    "cv2.destroyAllWindows()"
   ]
  },
  {
   "cell_type": "code",
   "execution_count": null,
   "metadata": {},
   "outputs": [],
   "source": []
  }
 ],
 "metadata": {
  "kernelspec": {
   "display_name": "Python 3 (ipykernel)",
   "language": "python",
   "name": "python3"
  },
  "language_info": {
   "codemirror_mode": {
    "name": "ipython",
    "version": 3
   },
   "file_extension": ".py",
   "mimetype": "text/x-python",
   "name": "python",
   "nbconvert_exporter": "python",
   "pygments_lexer": "ipython3",
   "version": "3.10.8"
  },
  "vscode": {
   "interpreter": {
    "hash": "00499391e26525a6f029e5f9ab89ef0799b3fd373b735b2129c9f06f5f3887c4"
   }
  }
 },
 "nbformat": 4,
 "nbformat_minor": 2
}
