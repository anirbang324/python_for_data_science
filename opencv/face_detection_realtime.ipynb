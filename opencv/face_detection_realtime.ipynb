{
 "cells": [
  {
   "cell_type": "markdown",
   "metadata": {},
   "source": [
    "# Approach - \n",
    "\n",
    "# 1. To detect face, we need to access the webcam, since there is only one webcam in my system, so  - VideoCapture(0)\n",
    "# 2. We need to initialize a while loop that will keep running for infinite times\n",
    "# 3. To detect faces we need to use detectMultiScale and specify values for image[, scaleFactor[, minNeighbors[, flags[, minSize[, maxSize]]]]]\n",
    "# 4. To show the output - cv2.imshow \n",
    "# 5. To stop the window we should break the loop and when user presses 'q' then the loop will break\n",
    "\n",
    "# if keyprsd == ord('q'):\n",
    "#       break"
   ]
  },
  {
   "cell_type": "code",
   "execution_count": 1,
   "metadata": {},
   "outputs": [],
   "source": [
    "import cv2"
   ]
  },
  {
   "cell_type": "code",
   "execution_count": 2,
   "metadata": {},
   "outputs": [],
   "source": [
    "detector  = cv2.CascadeClassifier('./haarcascade_frontalface_default.xml')"
   ]
  },
  {
   "cell_type": "code",
   "execution_count": 1,
   "metadata": {},
   "outputs": [],
   "source": [
    "import cv2\n",
    "from fer import FER\n",
    "\n",
    "# Initialize camera and emotion detector\n",
    "cam = cv2.VideoCapture(0)\n",
    "detector = cv2.CascadeClassifier(cv2.data.haarcascades + 'haarcascade_frontalface_default.xml')\n",
    "emotion_detector = FER()\n",
    "\n",
    "while True:\n",
    "    ret, frame = cam.read()\n",
    "\n",
    "    if not ret:\n",
    "        continue\n",
    "\n",
    "    # Detect faces using Haar Cascade\n",
    "    allfaces = detector.detectMultiScale(frame, 1.5, 3)\n",
    "\n",
    "    for (x, y, w, h) in allfaces:\n",
    "        # Draw rectangle around the face\n",
    "        cv2.rectangle(frame, (x, y), (x + w, y + h), (255, 0, 0), 2)\n",
    "\n",
    "        # Crop the face region from the frame\n",
    "        face_region = frame[y:y+h, x:x+w]\n",
    "\n",
    "        # Predict emotions using the FER library\n",
    "        emotion_results = emotion_detector.detect_emotions(face_region)\n",
    "\n",
    "        # Check if any emotions were detected\n",
    "        if emotion_results:\n",
    "            # Get the top emotion from the detection\n",
    "            top_emotion = emotion_results[0]['emotions']\n",
    "            emotion_label = max(top_emotion, key=top_emotion.get)\n",
    "\n",
    "            # Display the emotion label on the screen\n",
    "            cv2.putText(frame, emotion_label, (x, y - 10), cv2.FONT_HERSHEY_SIMPLEX, 0.9, (255, 255, 255), 2)\n",
    "\n",
    "    # Show the updated frame with emotion detection\n",
    "    cv2.imshow(\"Emotion Detection\", frame)\n",
    "\n",
    "    # Check if the 'q' key is pressed to quit\n",
    "    keyprsd = cv2.waitKey(1) & 0xFF\n",
    "    if keyprsd == ord('q'):\n",
    "        break\n",
    "\n",
    "# Release resources\n",
    "cam.release()\n",
    "cv2.destroyAllWindows()\n"
   ]
  },
  {
   "cell_type": "code",
   "execution_count": null,
   "metadata": {},
   "outputs": [],
   "source": []
  }
 ],
 "metadata": {
  "kernelspec": {
   "display_name": "Python 3 (ipykernel)",
   "language": "python",
   "name": "python3"
  },
  "language_info": {
   "codemirror_mode": {
    "name": "ipython",
    "version": 3
   },
   "file_extension": ".py",
   "mimetype": "text/x-python",
   "name": "python",
   "nbconvert_exporter": "python",
   "pygments_lexer": "ipython3",
   "version": "3.11.4"
  },
  "vscode": {
   "interpreter": {
    "hash": "00499391e26525a6f029e5f9ab89ef0799b3fd373b735b2129c9f06f5f3887c4"
   }
  }
 },
 "nbformat": 4,
 "nbformat_minor": 2
}
