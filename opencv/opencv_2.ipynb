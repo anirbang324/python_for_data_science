{
 "cells": [
  {
   "cell_type": "markdown",
   "metadata": {},
   "source": [
    "Get Video From Camera"
   ]
  },
  {
   "cell_type": "code",
   "execution_count": 4,
   "metadata": {},
   "outputs": [],
   "source": [
    "import cv2"
   ]
  },
  {
   "cell_type": "code",
   "execution_count": 5,
   "metadata": {},
   "outputs": [],
   "source": [
    "cam = cv2.VideoCapture(0)  #0 is the primary webcam, if we have another webcam we can wite\n",
    "\n",
    "#cv2.VideoCapture(1)  "
   ]
  },
  {
   "cell_type": "code",
   "execution_count": 6,
   "metadata": {},
   "outputs": [],
   "source": [
    "#we need to run the webcam for infinite time, so while loop is needed\n",
    "#to read the data, cam.read function is used\n",
    "while True:\n",
    "    ret,frame =  cam.read()  #ret is a boolean function\n",
    "\n",
    "    if ret == False:\n",
    "        continue\n",
    "    cv2.imshow(\"my frame\",frame)\n",
    "    #wating for user to press a key\n",
    "    #if user presses 'q' button then close the applcation\n",
    "    key_pressed = cv2.waitKey(1) &  0xFF\n",
    "    if key_pressed == ord('q'):\n",
    "        break\n",
    "\n",
    "cam.release()  #to release the webcam\n",
    "cv2.destroyAllWindows() #to close openCV window"
   ]
  }
 ],
 "metadata": {
  "kernelspec": {
   "display_name": "Python 3.10.8 64-bit (microsoft store)",
   "language": "python",
   "name": "python3"
  },
  "language_info": {
   "codemirror_mode": {
    "name": "ipython",
    "version": 3
   },
   "file_extension": ".py",
   "mimetype": "text/x-python",
   "name": "python",
   "nbconvert_exporter": "python",
   "pygments_lexer": "ipython3",
   "version": "3.10.8"
  },
  "orig_nbformat": 4,
  "vscode": {
   "interpreter": {
    "hash": "00499391e26525a6f029e5f9ab89ef0799b3fd373b735b2129c9f06f5f3887c4"
   }
  }
 },
 "nbformat": 4,
 "nbformat_minor": 2
}
