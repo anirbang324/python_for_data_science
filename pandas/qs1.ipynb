{
 "cells": [
  {
   "cell_type": "code",
   "execution_count": 2,
   "metadata": {},
   "outputs": [
    {
     "name": "stdout",
     "output_type": "stream",
     "text": [
      "Defaulting to user installation because normal site-packages is not writeable\n",
      "Requirement already satisfied: pandas in c:\\users\\anirb\\appdata\\roaming\\python\\python311\\site-packages (2.0.3)\n",
      "Requirement already satisfied: python-dateutil>=2.8.2 in c:\\users\\anirb\\appdata\\roaming\\python\\python311\\site-packages (from pandas) (2.8.2)\n",
      "Requirement already satisfied: pytz>=2020.1 in c:\\users\\anirb\\appdata\\roaming\\python\\python311\\site-packages (from pandas) (2023.3)\n",
      "Requirement already satisfied: tzdata>=2022.1 in c:\\users\\anirb\\appdata\\roaming\\python\\python311\\site-packages (from pandas) (2023.3)\n",
      "Requirement already satisfied: numpy>=1.21.0 in c:\\users\\anirb\\appdata\\roaming\\python\\python311\\site-packages (from pandas) (1.25.1)\n",
      "Requirement already satisfied: six>=1.5 in c:\\users\\anirb\\appdata\\roaming\\python\\python311\\site-packages (from python-dateutil>=2.8.2->pandas) (1.16.0)\n"
     ]
    },
    {
     "name": "stderr",
     "output_type": "stream",
     "text": [
      "\n",
      "[notice] A new release of pip is available: 23.1.2 -> 23.3.1\n",
      "[notice] To update, run: python.exe -m pip install --upgrade pip\n"
     ]
    },
    {
     "name": "stdout",
     "output_type": "stream",
     "text": [
      "Defaulting to user installation because normal site-packages is not writeable\n",
      "Requirement already satisfied: pandas in c:\\users\\anirb\\appdata\\roaming\\python\\python311\\site-packages (2.0.3)\n",
      "Requirement already satisfied: python-dateutil>=2.8.2 in c:\\users\\anirb\\appdata\\roaming\\python\\python311\\site-packages (from pandas) (2.8.2)\n",
      "Requirement already satisfied: pytz>=2020.1 in c:\\users\\anirb\\appdata\\roaming\\python\\python311\\site-packages (from pandas) (2023.3)\n",
      "Requirement already satisfied: tzdata>=2022.1 in c:\\users\\anirb\\appdata\\roaming\\python\\python311\\site-packages (from pandas) (2023.3)\n",
      "Requirement already satisfied: numpy>=1.21.0 in c:\\users\\anirb\\appdata\\roaming\\python\\python311\\site-packages (from pandas) (1.25.1)\n",
      "Requirement already satisfied: six>=1.5 in c:\\users\\anirb\\appdata\\roaming\\python\\python311\\site-packages (from python-dateutil>=2.8.2->pandas) (1.16.0)\n"
     ]
    },
    {
     "name": "stderr",
     "output_type": "stream",
     "text": [
      "\n",
      "[notice] A new release of pip is available: 23.1.2 -> 23.3.1\n",
      "[notice] To update, run: python.exe -m pip install --upgrade pip\n"
     ]
    }
   ],
   "source": [
    "!pip install pandas"
   ]
  },
  {
   "cell_type": "code",
   "execution_count": 3,
   "metadata": {},
   "outputs": [
    {
     "name": "stdout",
     "output_type": "stream",
     "text": [
      "Defaulting to user installation because normal site-packages is not writeable\n",
      "Requirement already satisfied: pip in c:\\program files\\python311\\lib\\site-packages (23.1.2)\n",
      "Collecting pip\n",
      "  Downloading pip-23.3.1-py3-none-any.whl (2.1 MB)\n",
      "                                              0.0/2.1 MB ? eta -:--:--\n",
      "                                              0.0/2.1 MB ? eta -:--:--\n",
      "                                              0.0/2.1 MB ? eta -:--:--\n",
      "                                              0.0/2.1 MB ? eta -:--:--\n",
      "     --                                       0.1/2.1 MB 819.2 kB/s eta 0:00:03\n",
      "     --                                       0.1/2.1 MB 819.2 kB/s eta 0:00:03\n",
      "     ----                                     0.2/2.1 MB 1.1 MB/s eta 0:00:02\n",
      "     -----                                    0.3/2.1 MB 1.1 MB/s eta 0:00:02\n",
      "     -----                                    0.3/2.1 MB 842.9 kB/s eta 0:00:03\n",
      "     -------                                  0.4/2.1 MB 1.0 MB/s eta 0:00:02\n",
      "     --------                                 0.4/2.1 MB 1.1 MB/s eta 0:00:02\n",
      "     --------                                 0.5/2.1 MB 1.0 MB/s eta 0:00:02\n",
      "     ---------                                0.5/2.1 MB 1.0 MB/s eta 0:00:02\n",
      "     ---------                                0.5/2.1 MB 1.0 MB/s eta 0:00:02\n",
      "     -----------                              0.6/2.1 MB 999.9 kB/s eta 0:00:02\n",
      "     ------------                             0.6/2.1 MB 999.4 kB/s eta 0:00:02\n",
      "     ------------                             0.7/2.1 MB 937.7 kB/s eta 0:00:02\n",
      "     -------------                            0.7/2.1 MB 989.2 kB/s eta 0:00:02\n",
      "     ---------------                          0.8/2.1 MB 1.0 MB/s eta 0:00:02\n",
      "     ----------------                         0.8/2.1 MB 1.0 MB/s eta 0:00:02\n",
      "     ----------------                         0.8/2.1 MB 1.0 MB/s eta 0:00:02\n",
      "     ----------------                         0.8/2.1 MB 1.0 MB/s eta 0:00:02\n",
      "     ------------------                       1.0/2.1 MB 1.0 MB/s eta 0:00:02\n",
      "     -------------------                      1.0/2.1 MB 1.0 MB/s eta 0:00:02\n",
      "     -------------------                      1.0/2.1 MB 1.0 MB/s eta 0:00:02\n",
      "     -------------------                      1.0/2.1 MB 1.0 MB/s eta 0:00:02\n",
      "     --------------------                     1.1/2.1 MB 946.6 kB/s eta 0:00:02\n",
      "     ---------------------                    1.1/2.1 MB 969.8 kB/s eta 0:00:01\n",
      "     ---------------------                    1.1/2.1 MB 969.8 kB/s eta 0:00:01\n",
      "     -----------------------                  1.3/2.1 MB 963.2 kB/s eta 0:00:01\n",
      "     ------------------------                 1.3/2.1 MB 971.6 kB/s eta 0:00:01\n",
      "     ------------------------                 1.3/2.1 MB 934.9 kB/s eta 0:00:01\n",
      "     ------------------------                 1.3/2.1 MB 934.9 kB/s eta 0:00:01\n",
      "     --------------------------               1.4/2.1 MB 965.5 kB/s eta 0:00:01\n",
      "     ---------------------------              1.5/2.1 MB 976.2 kB/s eta 0:00:01\n",
      "     ----------------------------             1.5/2.1 MB 960.4 kB/s eta 0:00:01\n",
      "     ------------------------------           1.6/2.1 MB 995.6 kB/s eta 0:00:01\n",
      "     ------------------------------           1.6/2.1 MB 995.6 kB/s eta 0:00:01\n",
      "     ------------------------------           1.6/2.1 MB 995.6 kB/s eta 0:00:01\n",
      "     ----------------------------------       1.8/2.1 MB 1.0 MB/s eta 0:00:01\n",
      "     -----------------------------------      1.9/2.1 MB 1.0 MB/s eta 0:00:01\n",
      "     -----------------------------------      1.9/2.1 MB 1.0 MB/s eta 0:00:01\n",
      "     -------------------------------------    2.0/2.1 MB 1.0 MB/s eta 0:00:01\n",
      "     -------------------------------------    2.0/2.1 MB 1.0 MB/s eta 0:00:01\n",
      "     ---------------------------------------  2.1/2.1 MB 1.1 MB/s eta 0:00:01\n",
      "     ---------------------------------------- 2.1/2.1 MB 1.0 MB/s eta 0:00:00\n",
      "Installing collected packages: pip\n",
      "Successfully installed pip-23.3.1\n",
      "Note: you may need to restart the kernel to use updated packages.\n"
     ]
    }
   ],
   "source": [
    "pip install --upgrade pip"
   ]
  },
  {
   "cell_type": "code",
   "execution_count": 7,
   "metadata": {},
   "outputs": [
    {
     "name": "stdout",
     "output_type": "stream",
     "text": [
      " employeeid  ID employeename name\n",
      "        1.0 1.0            a    a\n",
      "        2.0 NaN            c  NaN\n",
      "        NaN 2.0          NaN    b\n"
     ]
    }
   ],
   "source": [
    "import pandas as pd\n",
    "\n",
    "# Sample data\n",
    "data1 = {'employeename': ['a', 'c'],\n",
    "        'employeeid': [1, 2]}\n",
    "\n",
    "df1 = pd.DataFrame(data1)\n",
    "\n",
    "data2 = {'name': ['a', 'b'],\n",
    "        'ID': [1, 2]}\n",
    "\n",
    "df2 = pd.DataFrame(data2)\n",
    "\n",
    "# Merge on 'employeename' or 'employeeid'\n",
    "result_df = pd.merge(df1, df2, how='outer', left_on=['employeename', 'employeeid'], right_on=['name', 'ID'])\n",
    "\n",
    "# Reorder columns as per your requirement\n",
    "result_df = result_df[['employeeid', 'ID', 'employeename', 'name']]\n",
    "\n",
    "# Print result as a formatted string\n",
    "print(result_df.to_string(index=False))"
   ]
  }
 ],
 "metadata": {
  "kernelspec": {
   "display_name": "Python 3",
   "language": "python",
   "name": "python3"
  },
  "language_info": {
   "codemirror_mode": {
    "name": "ipython",
    "version": 3
   },
   "file_extension": ".py",
   "mimetype": "text/x-python",
   "name": "python",
   "nbconvert_exporter": "python",
   "pygments_lexer": "ipython3",
   "version": "3.11.4"
  }
 },
 "nbformat": 4,
 "nbformat_minor": 2
}
