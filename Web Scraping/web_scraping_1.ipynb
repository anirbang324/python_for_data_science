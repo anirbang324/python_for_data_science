{
  "nbformat": 4,
  "nbformat_minor": 0,
  "metadata": {
    "colab": {
      "provenance": []
    },
    "kernelspec": {
      "name": "python3",
      "display_name": "Python 3"
    },
    "language_info": {
      "name": "python"
    }
  },
  "cells": [
    {
      "cell_type": "markdown",
      "source": [
        "### Web Scraping - Save an image from internet to local directory using ***BeautifulSoup Library.***"
      ],
      "metadata": {
        "id": "AWgI2LPbTRr0"
      }
    },
    {
      "cell_type": "code",
      "execution_count": 1,
      "metadata": {
        "colab": {
          "base_uri": "https://localhost:8080/"
        },
        "id": "e3IHWQuBTLG6",
        "outputId": "cfb86abb-2188-49ab-ebfa-f2cb8a35f9cd"
      },
      "outputs": [
        {
          "output_type": "stream",
          "name": "stdout",
          "text": [
            "Requirement already satisfied: requests in /usr/local/lib/python3.10/dist-packages (2.27.1)\n",
            "Requirement already satisfied: urllib3<1.27,>=1.21.1 in /usr/local/lib/python3.10/dist-packages (from requests) (1.26.16)\n",
            "Requirement already satisfied: certifi>=2017.4.17 in /usr/local/lib/python3.10/dist-packages (from requests) (2023.5.7)\n",
            "Requirement already satisfied: charset-normalizer~=2.0.0 in /usr/local/lib/python3.10/dist-packages (from requests) (2.0.12)\n",
            "Requirement already satisfied: idna<4,>=2.5 in /usr/local/lib/python3.10/dist-packages (from requests) (3.4)\n"
          ]
        }
      ],
      "source": [
        "pip install requests\n"
      ]
    },
    {
      "cell_type": "code",
      "source": [
        "import requests\n",
        "import bs4\n",
        "s = bs4.BeautifulSoup()\n",
        "url = \"https://api.ipify.org\"\n",
        "res = requests.get(url)\n",
        "res.status_code\n",
        "res.text"
      ],
      "metadata": {
        "colab": {
          "base_uri": "https://localhost:8080/",
          "height": 36
        },
        "id": "4XL7Lwf_TZff",
        "outputId": "46c52a85-14fd-4212-f805-ec213ece80d3"
      },
      "execution_count": 2,
      "outputs": [
        {
          "output_type": "execute_result",
          "data": {
            "text/plain": [
              "'34.86.211.251'"
            ],
            "application/vnd.google.colaboratory.intrinsic+json": {
              "type": "string"
            }
          },
          "metadata": {},
          "execution_count": 2
        }
      ]
    },
    {
      "cell_type": "code",
      "source": [
        "url = \"https://i.pinimg.com/originals/23/b9/4b/23b94bfecddc840c0ab5c4eaeaeeb974.jpg\"\n",
        "res = requests.get(url)\n",
        "res.status_code\n",
        "bin_data = res.content\n",
        "with open(\"abc.jpg\",'wb') as f:\n",
        "  f.write(bin_data)"
      ],
      "metadata": {
        "id": "T6EvwWgYT38s"
      },
      "execution_count": 3,
      "outputs": []
    }
  ]
}