{
  "cells": [
    {
      "cell_type": "markdown",
      "metadata": {
        "id": "AWgI2LPbTRr0"
      },
      "source": [
        "### Web Scraping - Save an image from internet to local directory using ***BeautifulSoup Library.***"
      ]
    },
    {
      "cell_type": "code",
      "execution_count": 3,
      "metadata": {
        "colab": {
          "base_uri": "https://localhost:8080/"
        },
        "id": "e3IHWQuBTLG6",
        "outputId": "cfb86abb-2188-49ab-ebfa-f2cb8a35f9cd"
      },
      "outputs": [
        {
          "name": "stdout",
          "output_type": "stream",
          "text": [
            "Defaulting to user installation because normal site-packages is not writeable\n",
            "Collecting bs4\n",
            "  Downloading bs4-0.0.1.tar.gz (1.1 kB)\n",
            "  Installing build dependencies: started\n",
            "  Installing build dependencies: finished with status 'done'\n",
            "  Getting requirements to build wheel: started\n",
            "  Getting requirements to build wheel: finished with status 'done'\n",
            "  Preparing metadata (pyproject.toml): started\n",
            "  Preparing metadata (pyproject.toml): finished with status 'done'\n",
            "Collecting beautifulsoup4 (from bs4)\n",
            "  Downloading beautifulsoup4-4.12.2-py3-none-any.whl (142 kB)\n",
            "                                              0.0/143.0 kB ? eta -:--:--\n",
            "     --------                                30.7/143.0 kB 1.3 MB/s eta 0:00:01\n",
            "     ----------                            41.0/143.0 kB 393.8 kB/s eta 0:00:01\n",
            "     ----------------------------         112.6/143.0 kB 930.9 kB/s eta 0:00:01\n",
            "     ------------------------------------ 143.0/143.0 kB 771.7 kB/s eta 0:00:00\n",
            "Collecting soupsieve>1.2 (from beautifulsoup4->bs4)\n",
            "  Downloading soupsieve-2.4.1-py3-none-any.whl (36 kB)\n",
            "Building wheels for collected packages: bs4\n",
            "  Building wheel for bs4 (pyproject.toml): started\n",
            "  Building wheel for bs4 (pyproject.toml): finished with status 'done'\n",
            "  Created wheel for bs4: filename=bs4-0.0.1-py3-none-any.whl size=1266 sha256=c1746129535059c153381c6613b4bee115300b4263d3051099b99f6efd8433fa\n",
            "  Stored in directory: c:\\users\\anirb\\appdata\\local\\pip\\cache\\wheels\\d4\\c8\\5b\\b5be9c20e5e4503d04a6eac8a3cd5c2393505c29f02bea0960\n",
            "Successfully built bs4\n",
            "Installing collected packages: soupsieve, beautifulsoup4, bs4\n",
            "Successfully installed beautifulsoup4-4.12.2 bs4-0.0.1 soupsieve-2.4.1\n"
          ]
        }
      ],
      "source": [
        "!pip install bs4\n"
      ]
    },
    {
      "cell_type": "code",
      "execution_count": 4,
      "metadata": {
        "colab": {
          "base_uri": "https://localhost:8080/",
          "height": 36
        },
        "id": "4XL7Lwf_TZff",
        "outputId": "46c52a85-14fd-4212-f805-ec213ece80d3"
      },
      "outputs": [
        {
          "data": {
            "text/plain": [
              "'202.142.104.235'"
            ]
          },
          "execution_count": 4,
          "metadata": {},
          "output_type": "execute_result"
        }
      ],
      "source": [
        "import requests\n",
        "import bs4\n",
        "s = bs4.BeautifulSoup()\n",
        "url = \"https://api.ipify.org\"\n",
        "res = requests.get(url)\n",
        "res.status_code\n",
        "res.text"
      ]
    },
    {
      "cell_type": "code",
      "execution_count": 5,
      "metadata": {
        "id": "T6EvwWgYT38s"
      },
      "outputs": [],
      "source": [
        "url = \"https://i.pinimg.com/originals/23/b9/4b/23b94bfecddc840c0ab5c4eaeaeeb974.jpg\"\n",
        "res = requests.get(url)\n",
        "res.status_code\n",
        "bin_data = res.content\n",
        "with open(\"abc.jpg\",'wb') as f:\n",
        "  f.write(bin_data)"
      ]
    },
    {
      "cell_type": "markdown",
      "metadata": {},
      "source": [
        "Saving an image from 'unsplash.com'"
      ]
    },
    {
      "cell_type": "code",
      "execution_count": 7,
      "metadata": {},
      "outputs": [],
      "source": [
        "url = \"https://images.unsplash.com/photo-1506744038136-46273834b3fb?ixlib=rb-4.0.3&ixid=M3wxMjA3fDB8MHxwaG90by1wYWdlfHx8fGVufDB8fHx8fA%3D%3D&auto=format&fit=crop&w=870&q=80\"\n",
        "res = requests.get(url)\n",
        "res.status_code\n",
        "bin_data = res.content\n",
        "with open(\"landscape.jpg\",'wb') as f:\n",
        "  f.write(bin_data)"
      ]
    },
    {
      "cell_type": "code",
      "execution_count": null,
      "metadata": {},
      "outputs": [],
      "source": []
    }
  ],
  "metadata": {
    "colab": {
      "provenance": []
    },
    "kernelspec": {
      "display_name": "Python 3",
      "name": "python3"
    },
    "language_info": {
      "codemirror_mode": {
        "name": "ipython",
        "version": 3
      },
      "file_extension": ".py",
      "mimetype": "text/x-python",
      "name": "python",
      "nbconvert_exporter": "python",
      "pygments_lexer": "ipython3",
      "version": "3.11.4"
    }
  },
  "nbformat": 4,
  "nbformat_minor": 0
}
